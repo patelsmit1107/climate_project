{
  "nbformat": 4,
  "nbformat_minor": 0,
  "metadata": {
    "colab": {
      "provenance": []
    },
    "kernelspec": {
      "name": "python3",
      "display_name": "Python 3"
    },
    "language_info": {
      "name": "python"
    }
  },
  "cells": [
    {
      "cell_type": "code",
      "execution_count": null,
      "metadata": {
        "id": "FNS0bk_nxADd",
        "colab": {
          "base_uri": "https://localhost:8080/"
        },
        "outputId": "cdd96b69-7612-460f-ea60-7744db76940d"
      },
      "outputs": [
        {
          "output_type": "stream",
          "name": "stdout",
          "text": [
            "Mounted at /content/drive\n"
          ]
        }
      ],
      "source": [
        "from google.colab import drive\n",
        "drive.mount('/content/drive')"
      ]
    },
    {
      "cell_type": "code",
      "source": [
        "import numpy as np\n",
        "import pandas as pd\n",
        "import matplotlib.pyplot as plt\n",
        "import seaborn as sns\n",
        "%matplotlib inline"
      ],
      "metadata": {
        "id": "aRYK5DAtyMYa"
      },
      "execution_count": null,
      "outputs": []
    },
    {
      "cell_type": "code",
      "source": [
        "data=pd.read_csv(\"/content/file.csv\")"
      ],
      "metadata": {
        "id": "ZQoWiHoyyMVa"
      },
      "execution_count": null,
      "outputs": []
    },
    {
      "cell_type": "code",
      "source": [
        "data"
      ],
      "metadata": {
        "id": "ONA2uXDNyMSK"
      },
      "execution_count": null,
      "outputs": []
    },
    {
      "cell_type": "markdown",
      "source": [
        "# **How to analyse data**"
      ],
      "metadata": {
        "id": "F9JOz4uCyvq4"
      }
    },
    {
      "cell_type": "code",
      "source": [
        "# .head()-it showes first n rows in data by defult 5\n",
        "data.head(7)"
      ],
      "metadata": {
        "id": "4w_xhDgByMPI"
      },
      "execution_count": null,
      "outputs": []
    },
    {
      "cell_type": "code",
      "source": [
        "# .tail()-it showes last end data by default it is 5\n",
        "data.tail(6)"
      ],
      "metadata": {
        "id": "kBO0vsLyyMLn"
      },
      "execution_count": null,
      "outputs": []
    },
    {
      "cell_type": "code",
      "source": [
        "# .shape -it give total number of rowes and total number of columns in data\n",
        "data.shape"
      ],
      "metadata": {
        "id": "S58jY4BzyMGE"
      },
      "execution_count": null,
      "outputs": []
    },
    {
      "cell_type": "code",
      "source": [
        "# .index-provides indexs of data frames\n",
        "data.index"
      ],
      "metadata": {
        "id": "tkM3XOOKyMCw"
      },
      "execution_count": null,
      "outputs": []
    },
    {
      "cell_type": "code",
      "source": [
        "# .info()-provides all information of dataset\n",
        "data.info()"
      ],
      "metadata": {
        "id": "danVBH7xyL__"
      },
      "execution_count": null,
      "outputs": []
    },
    {
      "cell_type": "code",
      "source": [
        "#.columns-it provides all column name\n",
        "data.columns"
      ],
      "metadata": {
        "id": "ETLi7gYDyL87"
      },
      "execution_count": null,
      "outputs": []
    },
    {
      "cell_type": "code",
      "source": [
        "# .dtypes-showes data type of each column\n",
        "data.dtypes"
      ],
      "metadata": {
        "id": "LvBw3OqPyL5i"
      },
      "execution_count": null,
      "outputs": []
    },
    {
      "cell_type": "code",
      "source": [
        "# .describe- showes statistical information of data frame\n",
        "data.describe()"
      ],
      "metadata": {
        "id": "2aQJNd8myL16"
      },
      "execution_count": null,
      "outputs": []
    },
    {
      "cell_type": "code",
      "source": [
        "#.unique()-in column it will show unique value it will applide on single column not whole data frme\n",
        "data['Weather'].unique()"
      ],
      "metadata": {
        "id": "la3oU1cJyLy9"
      },
      "execution_count": null,
      "outputs": []
    },
    {
      "cell_type": "code",
      "source": [
        "# .nonunique()-it will give total no of unique value it can be applied on single column as well as whole dataset\n",
        "data.nunique()"
      ],
      "metadata": {
        "id": "RXdxA184yLvd"
      },
      "execution_count": null,
      "outputs": []
    },
    {
      "cell_type": "code",
      "source": [
        "# .count()-it showes total non-null value in data set ot applied on single column or whole dataset\n",
        "data.count()"
      ],
      "metadata": {
        "id": "Y22RT66byLpg"
      },
      "execution_count": null,
      "outputs": []
    },
    {
      "cell_type": "code",
      "source": [
        "# .value_counts it showes all uniqe values with their counts applied on single column only\n",
        "data[\"Weather\"].value_counts()"
      ],
      "metadata": {
        "id": "jUyk9J6oyLln"
      },
      "execution_count": null,
      "outputs": []
    },
    {
      "cell_type": "code",
      "source": [
        "#q1 find all the unique \"wind speed \"values in data\n",
        "data.columns\n",
        "data['Wind Speed_km/h'].nunique()# sowes number of unique values\n",
        "data['Wind Speed_km/h'].unique()"
      ],
      "metadata": {
        "id": "HP6Uh1NoyLiW"
      },
      "execution_count": null,
      "outputs": []
    },
    {
      "cell_type": "code",
      "source": [
        "#find the number of times when weather is exactly clear value_count(),filtering,groupby\n",
        "data.columns\n",
        "data.Weather.value_counts()"
      ],
      "metadata": {
        "id": "KI82us3tyLfE"
      },
      "execution_count": null,
      "outputs": []
    },
    {
      "cell_type": "code",
      "source": [
        "#filtering\n",
        "data[data.Weather == \"Clear\"]"
      ],
      "metadata": {
        "id": "FWqRyjcfyLY1"
      },
      "execution_count": null,
      "outputs": []
    },
    {
      "cell_type": "code",
      "source": [
        "#using groupby command\n",
        "data.groupby('Weather Conditions').get_group('Clear')"
      ],
      "metadata": {
        "id": "IAad3s44yLRY"
      },
      "execution_count": null,
      "outputs": []
    },
    {
      "cell_type": "code",
      "source": [
        "#find the number of times when wind speed is exactly 4km\\hr\n",
        "data.columns\n",
        "data[data['Wind Speed_km/h']==4]\n"
      ],
      "metadata": {
        "id": "WIChqqBfyK_m"
      },
      "execution_count": null,
      "outputs": []
    },
    {
      "cell_type": "code",
      "source": [
        "#find out all null values in data\n",
        "data.isnull()"
      ],
      "metadata": {
        "id": "6GDZVQf2yKq5"
      },
      "execution_count": null,
      "outputs": []
    },
    {
      "cell_type": "code",
      "source": [
        "data.isnull().sum()"
      ],
      "metadata": {
        "id": "ej3F9j5X_GgK"
      },
      "execution_count": null,
      "outputs": []
    },
    {
      "cell_type": "code",
      "source": [
        "#rename the column name 'Weather' to 'Weather condition'\n",
        "data.rename(columns={'Weather':'Weather Conditions'},inplace=True)"
      ],
      "metadata": {
        "id": "kPoyeilP_Gdi"
      },
      "execution_count": null,
      "outputs": []
    },
    {
      "cell_type": "code",
      "source": [
        "data.columns"
      ],
      "metadata": {
        "id": "4qoxFjl0_Gah"
      },
      "execution_count": null,
      "outputs": []
    },
    {
      "cell_type": "code",
      "source": [
        "#wheat is mean visiblity\n",
        "data.Visibility_km.mean()"
      ],
      "metadata": {
        "id": "coJ4fR8X_GXr"
      },
      "execution_count": null,
      "outputs": []
    },
    {
      "cell_type": "code",
      "source": [
        "data.describe()"
      ],
      "metadata": {
        "id": "_Am58wJY_GQS"
      },
      "execution_count": null,
      "outputs": []
    },
    {
      "cell_type": "code",
      "source": [
        "#what is standrad deviation of pressure\n",
        "data.columns\n",
        "data.Press_kPa.std()"
      ],
      "metadata": {
        "id": "bRLTtYd__GNS"
      },
      "execution_count": null,
      "outputs": []
    },
    {
      "cell_type": "code",
      "source": [
        "data.describe()"
      ],
      "metadata": {
        "id": "KT6Z4hLj_GKb"
      },
      "execution_count": null,
      "outputs": []
    },
    {
      "cell_type": "code",
      "source": [
        "#what is variance of relative humidity all in one we will use describe\n",
        "data.describe()"
      ],
      "metadata": {
        "id": "bsq7MMxx_GHd"
      },
      "execution_count": null,
      "outputs": []
    },
    {
      "cell_type": "code",
      "source": [
        "\n",
        "#find the insrtance when snow was recorded #value_counts,filtering,str.conditions\n",
        "data.head()\n",
        "data['Weather Conditions']. value_counts()"
      ],
      "metadata": {
        "id": "YCw_EYGV_GEe"
      },
      "execution_count": null,
      "outputs": []
    },
    {
      "cell_type": "code",
      "source": [
        "#filtering\n",
        "data[data[\"Weather Conditions\"]==\"Snow\"]"
      ],
      "metadata": {
        "id": "rnUbqbx1CiBC"
      },
      "execution_count": null,
      "outputs": []
    },
    {
      "cell_type": "code",
      "source": [
        "#using groupby command\n",
        "data.groupby('Weather Conditions').get_group('Snow')"
      ],
      "metadata": {
        "id": "eYq5tokmCh9_"
      },
      "execution_count": null,
      "outputs": []
    },
    {
      "cell_type": "code",
      "source": [
        "#using str.contins\n",
        "data[data['Weather Conditions'].str.contains('Snow')]"
      ],
      "metadata": {
        "id": "Pca9n-MsCh6Z"
      },
      "execution_count": null,
      "outputs": []
    },
    {
      "cell_type": "code",
      "source": [
        "#find instance when wind speed is above 24 and visiblity is 25\n",
        "data.columns\n",
        "data[(data['Wind Speed_km/h']>24)&(data['Visibility_km']>25)]"
      ],
      "metadata": {
        "id": "az1KMUTbCh3F"
      },
      "execution_count": null,
      "outputs": []
    },
    {
      "cell_type": "code",
      "source": [
        "#what is mean value of each column against each weather conditions\n",
        "data.groupby('Weather Conditions').mean()"
      ],
      "metadata": {
        "id": "IZ7XtKxoChyj"
      },
      "execution_count": null,
      "outputs": []
    },
    {
      "cell_type": "code",
      "source": [
        "#what is min and max value of each column against weather condition\n",
        "data.groupby(\"Weather Conditions\").min()"
      ],
      "metadata": {
        "id": "dFr3DzyVKx-o"
      },
      "execution_count": null,
      "outputs": []
    },
    {
      "cell_type": "code",
      "source": [
        "data.groupby(\"Weather Conditions\").max()"
      ],
      "metadata": {
        "id": "wH2Rgv9kChsZ"
      },
      "execution_count": null,
      "outputs": []
    },
    {
      "cell_type": "code",
      "source": [
        "#show all the record when weather ondition is fog\n",
        "data[data[('Weather Conditions')].str.contains('Fog')]"
      ],
      "metadata": {
        "id": "pFG1FBlEChoy"
      },
      "execution_count": null,
      "outputs": []
    },
    {
      "cell_type": "code",
      "source": [
        "data[data[('Weather Conditions')]=='Fog']"
      ],
      "metadata": {
        "id": "AEZz5QheChl2"
      },
      "execution_count": null,
      "outputs": []
    },
    {
      "cell_type": "code",
      "source": [
        "#find all instance when weather condition is clear or visibility is above 40\n",
        "data[(data['Weather Conditions']=='Clear')|(data['Visibility_km']>40)]"
      ],
      "metadata": {
        "id": "pwzgmiZaChi4"
      },
      "execution_count": null,
      "outputs": []
    },
    {
      "cell_type": "code",
      "source": [
        "#find all instance when weather condition is clear and relative humidity is grater than 30 or visibility is above 40\n",
        "data[(data['Weather Conditions']=='Clear')&(data['Rel Hum_%']>30)|(data['Visibility_km']>40)]"
      ],
      "metadata": {
        "id": "cgPsgY9xNT8X"
      },
      "execution_count": null,
      "outputs": []
    },
    {
      "cell_type": "code",
      "source": [],
      "metadata": {
        "id": "t4uqCKkENHh0"
      },
      "execution_count": null,
      "outputs": []
    },
    {
      "cell_type": "code",
      "source": [],
      "metadata": {
        "id": "LaPRcAMMNHeO"
      },
      "execution_count": null,
      "outputs": []
    },
    {
      "cell_type": "code",
      "source": [],
      "metadata": {
        "id": "Fc7eNRQsNHbP"
      },
      "execution_count": null,
      "outputs": []
    },
    {
      "cell_type": "code",
      "source": [],
      "metadata": {
        "id": "EpfF04znNHYc"
      },
      "execution_count": null,
      "outputs": []
    },
    {
      "cell_type": "code",
      "source": [],
      "metadata": {
        "id": "YSeEWKsdNHVR"
      },
      "execution_count": null,
      "outputs": []
    }
  ]
}